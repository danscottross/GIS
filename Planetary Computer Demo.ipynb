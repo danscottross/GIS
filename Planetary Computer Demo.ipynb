{
 "cells": [
  {
   "cell_type": "markdown",
   "metadata": {},
   "source": [
    "<h1><b>Reading Data from the STAC API</b></h1>\n",
    "\n",
    "The Planetary Computer catalogs the datasets we host using the STAC (SpatioTemporal Asset Catalog) specification. We provide a STAC API endpoint for searching our datasets by space, time, and more. This quickstart will show you how to search for data using our STAC API and open-source Python libraries. To use our STAC API from R, see Reading data from the STAC API with R.\n",
    "\n",
    "To get started you’ll need the pystac-client library installed.\n",
    "\n",
    "https://planetarycomputer.microsoft.com/docs/quickstarts/reading-stac/"
   ]
  },
  {
   "cell_type": "code",
   "execution_count": 2,
   "metadata": {},
   "outputs": [],
   "source": [
    "import pystac_client\n",
    "import planetary_computer"
   ]
  },
  {
   "cell_type": "code",
   "execution_count": 3,
   "metadata": {},
   "outputs": [],
   "source": [
    "catalog = pystac_client.Client.open(\n",
    "    \"https://planetarycomputer.microsoft.com/api/stac/v1\",\n",
    "    modifier=planetary_computer.sign_inplace,\n",
    ")"
   ]
  },
  {
   "cell_type": "code",
   "execution_count": 34,
   "metadata": {},
   "outputs": [
    {
     "data": {
      "text/plain": [
       "2"
      ]
     },
     "execution_count": 34,
     "metadata": {},
     "output_type": "execute_result"
    }
   ],
   "source": [
    "time_range = \"2023-07-01/2023-12-31\"\n",
    "bbox = [ -105.113711, 39.567879, -104.758037, 39.809211]\n",
    "\n",
    "search = catalog.search(collections=[\"landsat-c2-l2\"], bbox=bbox, datetime=time_range)\n",
    "items = search.item_collection()\n",
    "len(items)"
   ]
  },
  {
   "cell_type": "code",
   "execution_count": 49,
   "metadata": {},
   "outputs": [
    {
     "ename": "APIError",
     "evalue": "18 validation errors for Request\nbody -> intersects -> type\n  unexpected value; permitted: 'Point' (type=value_error.const; given=Polygon; permitted=['Point'])\nbody -> intersects -> coordinates\n  wrong tuple length 1, expected 2 (type=value_error.tuple.length; actual_length=1; expected_length=2)\nbody -> intersects -> coordinates\n  wrong tuple length 1, expected 3 (type=value_error.tuple.length; actual_length=1; expected_length=3)\nbody -> intersects -> type\n  unexpected value; permitted: 'MultiPoint' (type=value_error.const; given=Polygon; permitted=['MultiPoint'])\nbody -> intersects -> coordinates -> 0\n  wrong tuple length 5, expected 2 (type=value_error.tuple.length; actual_length=5; expected_length=2)\nbody -> intersects -> coordinates -> 0\n  wrong tuple length 5, expected 3 (type=value_error.tuple.length; actual_length=5; expected_length=3)\nbody -> intersects -> type\n  unexpected value; permitted: 'LineString' (type=value_error.const; given=Polygon; permitted=['LineString'])\nbody -> intersects -> coordinates\n  ensure this value has at least 2 items (type=value_error.list.min_items; limit_value=2)\nbody -> intersects -> type\n  unexpected value; permitted: 'MultiLineString' (type=value_error.const; given=Polygon; permitted=['MultiLineString'])\nbody -> intersects -> coordinates\n  All linear rings have the same start and end coordinates (type=value_error)\nbody -> intersects -> type\n  unexpected value; permitted: 'MultiPolygon' (type=value_error.const; given=Polygon; permitted=['MultiPolygon'])\nbody -> intersects -> coordinates -> 0 -> 0\n  ensure this value has at least 4 items (type=value_error.list.min_items; limit_value=4)\nbody -> intersects -> coordinates -> 0 -> 1\n  ensure this value has at least 4 items (type=value_error.list.min_items; limit_value=4)\nbody -> intersects -> coordinates -> 0 -> 2\n  ensure this value has at least 4 items (type=value_error.list.min_items; limit_value=4)\nbody -> intersects -> coordinates -> 0 -> 3\n  ensure this value has at least 4 items (type=value_error.list.min_items; limit_value=4)\nbody -> intersects -> coordinates -> 0 -> 4\n  ensure this value has at least 4 items (type=value_error.list.min_items; limit_value=4)\nbody -> intersects -> type\n  unexpected value; permitted: 'GeometryCollection' (type=value_error.const; given=Polygon; permitted=['GeometryCollection'])\nbody -> intersects -> geometries\n  field required (type=value_error.missing)",
     "output_type": "error",
     "traceback": [
      "\u001b[0;31m---------------------------------------------------------------------------\u001b[0m",
      "\u001b[0;31mAPIError\u001b[0m                                  Traceback (most recent call last)",
      "Cell \u001b[0;32mIn[49], line 19\u001b[0m\n\u001b[1;32m     14\u001b[0m time_range \u001b[39m=\u001b[39m \u001b[39m\"\u001b[39m\u001b[39m2023-07-01/2023-12-31\u001b[39m\u001b[39m\"\u001b[39m\n\u001b[1;32m     16\u001b[0m search \u001b[39m=\u001b[39m catalog\u001b[39m.\u001b[39msearch(\n\u001b[1;32m     17\u001b[0m     collections\u001b[39m=\u001b[39m[\u001b[39m\"\u001b[39m\u001b[39mlandsat-c2-l2\u001b[39m\u001b[39m\"\u001b[39m], intersects\u001b[39m=\u001b[39marea_of_interest, datetime\u001b[39m=\u001b[39mtime_range\n\u001b[1;32m     18\u001b[0m )\n\u001b[0;32m---> 19\u001b[0m items \u001b[39m=\u001b[39m search\u001b[39m.\u001b[39;49mitem_collection()\n\u001b[1;32m     20\u001b[0m \u001b[39mlen\u001b[39m(items)\n",
      "File \u001b[0;32m~/opt/anaconda3/envs/danv/lib/python3.10/site-packages/pystac_client/item_search.py:756\u001b[0m, in \u001b[0;36mItemSearch.item_collection\u001b[0;34m(self)\u001b[0m\n\u001b[1;32m    748\u001b[0m \u001b[39m\"\"\"\u001b[39;00m\n\u001b[1;32m    749\u001b[0m \u001b[39mGet the matching items as a :py:class:`pystac.ItemCollection`.\u001b[39;00m\n\u001b[1;32m    750\u001b[0m \n\u001b[1;32m    751\u001b[0m \u001b[39mReturn:\u001b[39;00m\n\u001b[1;32m    752\u001b[0m \u001b[39m    ItemCollection: The item collection\u001b[39;00m\n\u001b[1;32m    753\u001b[0m \u001b[39m\"\"\"\u001b[39;00m\n\u001b[1;32m    754\u001b[0m \u001b[39m# Bypass the cache here, so that we can pass __preserve_dict__\u001b[39;00m\n\u001b[1;32m    755\u001b[0m \u001b[39m# without mutating what's in the cache.\u001b[39;00m\n\u001b[0;32m--> 756\u001b[0m feature_collection \u001b[39m=\u001b[39m \u001b[39mself\u001b[39;49m\u001b[39m.\u001b[39;49mitem_collection_as_dict\u001b[39m.\u001b[39;49m__wrapped__(\u001b[39mself\u001b[39;49m)\n\u001b[1;32m    757\u001b[0m \u001b[39m# already signed in item_collection_as_dict\u001b[39;00m\n\u001b[1;32m    758\u001b[0m \u001b[39mreturn\u001b[39;00m ItemCollection\u001b[39m.\u001b[39mfrom_dict(\n\u001b[1;32m    759\u001b[0m     feature_collection, preserve_dict\u001b[39m=\u001b[39m\u001b[39mFalse\u001b[39;00m, root\u001b[39m=\u001b[39m\u001b[39mself\u001b[39m\u001b[39m.\u001b[39mclient\n\u001b[1;32m    760\u001b[0m )\n",
      "File \u001b[0;32m~/opt/anaconda3/envs/danv/lib/python3.10/site-packages/pystac_client/item_search.py:777\u001b[0m, in \u001b[0;36mItemSearch.item_collection_as_dict\u001b[0;34m(self)\u001b[0m\n\u001b[1;32m    764\u001b[0m \u001b[39m\"\"\"\u001b[39;00m\n\u001b[1;32m    765\u001b[0m \u001b[39mGet the matching items as an item-collection-like dict.\u001b[39;00m\n\u001b[1;32m    766\u001b[0m \n\u001b[0;32m   (...)\u001b[0m\n\u001b[1;32m    774\u001b[0m \u001b[39m    Dict : A GeoJSON FeatureCollection\u001b[39;00m\n\u001b[1;32m    775\u001b[0m \u001b[39m\"\"\"\u001b[39;00m\n\u001b[1;32m    776\u001b[0m features \u001b[39m=\u001b[39m []\n\u001b[0;32m--> 777\u001b[0m \u001b[39mfor\u001b[39;00m page \u001b[39min\u001b[39;00m \u001b[39mself\u001b[39m\u001b[39m.\u001b[39mpages_as_dicts():\n\u001b[1;32m    778\u001b[0m     \u001b[39mfor\u001b[39;00m feature \u001b[39min\u001b[39;00m page[\u001b[39m\"\u001b[39m\u001b[39mfeatures\u001b[39m\u001b[39m\"\u001b[39m]:\n\u001b[1;32m    779\u001b[0m         features\u001b[39m.\u001b[39mappend(feature)\n",
      "File \u001b[0;32m~/opt/anaconda3/envs/danv/lib/python3.10/site-packages/pystac_client/item_search.py:727\u001b[0m, in \u001b[0;36mItemSearch.pages_as_dicts\u001b[0;34m(self)\u001b[0m\n\u001b[1;32m    725\u001b[0m \u001b[39mif\u001b[39;00m \u001b[39misinstance\u001b[39m(\u001b[39mself\u001b[39m\u001b[39m.\u001b[39m_stac_io, StacApiIO):\n\u001b[1;32m    726\u001b[0m     num_items \u001b[39m=\u001b[39m \u001b[39m0\u001b[39m\n\u001b[0;32m--> 727\u001b[0m     \u001b[39mfor\u001b[39;00m page \u001b[39min\u001b[39;00m \u001b[39mself\u001b[39m\u001b[39m.\u001b[39m_stac_io\u001b[39m.\u001b[39mget_pages(\n\u001b[1;32m    728\u001b[0m         \u001b[39mself\u001b[39m\u001b[39m.\u001b[39murl, \u001b[39mself\u001b[39m\u001b[39m.\u001b[39mmethod, \u001b[39mself\u001b[39m\u001b[39m.\u001b[39mget_parameters()\n\u001b[1;32m    729\u001b[0m     ):\n\u001b[1;32m    730\u001b[0m         call_modifier(\u001b[39mself\u001b[39m\u001b[39m.\u001b[39mmodifier, page)\n\u001b[1;32m    731\u001b[0m         features \u001b[39m=\u001b[39m page\u001b[39m.\u001b[39mget(\u001b[39m\"\u001b[39m\u001b[39mfeatures\u001b[39m\u001b[39m\"\u001b[39m, [])\n",
      "File \u001b[0;32m~/opt/anaconda3/envs/danv/lib/python3.10/site-packages/pystac_client/stac_api_io.py:293\u001b[0m, in \u001b[0;36mStacApiIO.get_pages\u001b[0;34m(self, url, method, parameters)\u001b[0m\n\u001b[1;32m    281\u001b[0m \u001b[39mdef\u001b[39;00m \u001b[39mget_pages\u001b[39m(\n\u001b[1;32m    282\u001b[0m     \u001b[39mself\u001b[39m,\n\u001b[1;32m    283\u001b[0m     url: \u001b[39mstr\u001b[39m,\n\u001b[1;32m    284\u001b[0m     method: Optional[\u001b[39mstr\u001b[39m] \u001b[39m=\u001b[39m \u001b[39mNone\u001b[39;00m,\n\u001b[1;32m    285\u001b[0m     parameters: Optional[Dict[\u001b[39mstr\u001b[39m, Any]] \u001b[39m=\u001b[39m \u001b[39mNone\u001b[39;00m,\n\u001b[1;32m    286\u001b[0m ) \u001b[39m-\u001b[39m\u001b[39m>\u001b[39m Iterator[Dict[\u001b[39mstr\u001b[39m, Any]]:\n\u001b[1;32m    287\u001b[0m     \u001b[39m\"\"\"Iterator that yields dictionaries for each page at a STAC paging\u001b[39;00m\n\u001b[1;32m    288\u001b[0m \u001b[39m    endpoint, e.g., /collections, /search\u001b[39;00m\n\u001b[1;32m    289\u001b[0m \n\u001b[1;32m    290\u001b[0m \u001b[39m    Return:\u001b[39;00m\n\u001b[1;32m    291\u001b[0m \u001b[39m        Dict[str, Any] : JSON content from a single page\u001b[39;00m\n\u001b[1;32m    292\u001b[0m \u001b[39m    \"\"\"\u001b[39;00m\n\u001b[0;32m--> 293\u001b[0m     page \u001b[39m=\u001b[39m \u001b[39mself\u001b[39;49m\u001b[39m.\u001b[39;49mread_json(url, method\u001b[39m=\u001b[39;49mmethod, parameters\u001b[39m=\u001b[39;49mparameters)\n\u001b[1;32m    294\u001b[0m     \u001b[39mif\u001b[39;00m \u001b[39mnot\u001b[39;00m (page\u001b[39m.\u001b[39mget(\u001b[39m\"\u001b[39m\u001b[39mfeatures\u001b[39m\u001b[39m\"\u001b[39m) \u001b[39mor\u001b[39;00m page\u001b[39m.\u001b[39mget(\u001b[39m\"\u001b[39m\u001b[39mcollections\u001b[39m\u001b[39m\"\u001b[39m)):\n\u001b[1;32m    295\u001b[0m         \u001b[39mreturn\u001b[39;00m \u001b[39mNone\u001b[39;00m\n",
      "File \u001b[0;32m~/opt/anaconda3/envs/danv/lib/python3.10/site-packages/pystac/stac_io.py:205\u001b[0m, in \u001b[0;36mStacIO.read_json\u001b[0;34m(self, source, *args, **kwargs)\u001b[0m\n\u001b[1;32m    188\u001b[0m \u001b[39mdef\u001b[39;00m \u001b[39mread_json\u001b[39m(\u001b[39mself\u001b[39m, source: HREF, \u001b[39m*\u001b[39margs: Any, \u001b[39m*\u001b[39m\u001b[39m*\u001b[39mkwargs: Any) \u001b[39m-\u001b[39m\u001b[39m>\u001b[39m Dict[\u001b[39mstr\u001b[39m, Any]:\n\u001b[1;32m    189\u001b[0m     \u001b[39m\"\"\"Read a dict from the given source.\u001b[39;00m\n\u001b[1;32m    190\u001b[0m \n\u001b[1;32m    191\u001b[0m \u001b[39m    See :func:`StacIO.read_text <pystac.StacIO.read_text>` for usage of\u001b[39;00m\n\u001b[0;32m   (...)\u001b[0m\n\u001b[1;32m    203\u001b[0m \u001b[39m        given source.\u001b[39;00m\n\u001b[1;32m    204\u001b[0m \u001b[39m    \"\"\"\u001b[39;00m\n\u001b[0;32m--> 205\u001b[0m     txt \u001b[39m=\u001b[39m \u001b[39mself\u001b[39;49m\u001b[39m.\u001b[39;49mread_text(source, \u001b[39m*\u001b[39;49margs, \u001b[39m*\u001b[39;49m\u001b[39m*\u001b[39;49mkwargs)\n\u001b[1;32m    206\u001b[0m     \u001b[39mreturn\u001b[39;00m \u001b[39mself\u001b[39m\u001b[39m.\u001b[39mjson_loads(txt)\n",
      "File \u001b[0;32m~/opt/anaconda3/envs/danv/lib/python3.10/site-packages/pystac_client/stac_api_io.py:167\u001b[0m, in \u001b[0;36mStacApiIO.read_text\u001b[0;34m(self, source, *args, **kwargs)\u001b[0m\n\u001b[1;32m    165\u001b[0m href \u001b[39m=\u001b[39m \u001b[39mstr\u001b[39m(source)\n\u001b[1;32m    166\u001b[0m \u001b[39mif\u001b[39;00m _is_url(href):\n\u001b[0;32m--> 167\u001b[0m     \u001b[39mreturn\u001b[39;00m \u001b[39mself\u001b[39;49m\u001b[39m.\u001b[39;49mrequest(href, \u001b[39m*\u001b[39;49margs, \u001b[39m*\u001b[39;49m\u001b[39m*\u001b[39;49mkwargs)\n\u001b[1;32m    168\u001b[0m \u001b[39melse\u001b[39;00m:\n\u001b[1;32m    169\u001b[0m     \u001b[39mwith\u001b[39;00m \u001b[39mopen\u001b[39m(href) \u001b[39mas\u001b[39;00m f:\n",
      "File \u001b[0;32m~/opt/anaconda3/envs/danv/lib/python3.10/site-packages/pystac_client/stac_api_io.py:216\u001b[0m, in \u001b[0;36mStacApiIO.request\u001b[0;34m(self, href, method, headers, parameters)\u001b[0m\n\u001b[1;32m    214\u001b[0m     \u001b[39mraise\u001b[39;00m APIError(\u001b[39mstr\u001b[39m(err))\n\u001b[1;32m    215\u001b[0m \u001b[39mif\u001b[39;00m resp\u001b[39m.\u001b[39mstatus_code \u001b[39m!=\u001b[39m \u001b[39m200\u001b[39m:\n\u001b[0;32m--> 216\u001b[0m     \u001b[39mraise\u001b[39;00m APIError\u001b[39m.\u001b[39mfrom_response(resp)\n\u001b[1;32m    217\u001b[0m \u001b[39mtry\u001b[39;00m:\n\u001b[1;32m    218\u001b[0m     \u001b[39mreturn\u001b[39;00m resp\u001b[39m.\u001b[39mcontent\u001b[39m.\u001b[39mdecode(\u001b[39m\"\u001b[39m\u001b[39mutf-8\u001b[39m\u001b[39m\"\u001b[39m)\n",
      "\u001b[0;31mAPIError\u001b[0m: 18 validation errors for Request\nbody -> intersects -> type\n  unexpected value; permitted: 'Point' (type=value_error.const; given=Polygon; permitted=['Point'])\nbody -> intersects -> coordinates\n  wrong tuple length 1, expected 2 (type=value_error.tuple.length; actual_length=1; expected_length=2)\nbody -> intersects -> coordinates\n  wrong tuple length 1, expected 3 (type=value_error.tuple.length; actual_length=1; expected_length=3)\nbody -> intersects -> type\n  unexpected value; permitted: 'MultiPoint' (type=value_error.const; given=Polygon; permitted=['MultiPoint'])\nbody -> intersects -> coordinates -> 0\n  wrong tuple length 5, expected 2 (type=value_error.tuple.length; actual_length=5; expected_length=2)\nbody -> intersects -> coordinates -> 0\n  wrong tuple length 5, expected 3 (type=value_error.tuple.length; actual_length=5; expected_length=3)\nbody -> intersects -> type\n  unexpected value; permitted: 'LineString' (type=value_error.const; given=Polygon; permitted=['LineString'])\nbody -> intersects -> coordinates\n  ensure this value has at least 2 items (type=value_error.list.min_items; limit_value=2)\nbody -> intersects -> type\n  unexpected value; permitted: 'MultiLineString' (type=value_error.const; given=Polygon; permitted=['MultiLineString'])\nbody -> intersects -> coordinates\n  All linear rings have the same start and end coordinates (type=value_error)\nbody -> intersects -> type\n  unexpected value; permitted: 'MultiPolygon' (type=value_error.const; given=Polygon; permitted=['MultiPolygon'])\nbody -> intersects -> coordinates -> 0 -> 0\n  ensure this value has at least 4 items (type=value_error.list.min_items; limit_value=4)\nbody -> intersects -> coordinates -> 0 -> 1\n  ensure this value has at least 4 items (type=value_error.list.min_items; limit_value=4)\nbody -> intersects -> coordinates -> 0 -> 2\n  ensure this value has at least 4 items (type=value_error.list.min_items; limit_value=4)\nbody -> intersects -> coordinates -> 0 -> 3\n  ensure this value has at least 4 items (type=value_error.list.min_items; limit_value=4)\nbody -> intersects -> coordinates -> 0 -> 4\n  ensure this value has at least 4 items (type=value_error.list.min_items; limit_value=4)\nbody -> intersects -> type\n  unexpected value; permitted: 'GeometryCollection' (type=value_error.const; given=Polygon; permitted=['GeometryCollection'])\nbody -> intersects -> geometries\n  field required (type=value_error.missing)"
     ]
    }
   ],
   "source": [
    "area_of_interest = {\n",
    "    \"type\": \"Polygon\",\n",
    "    \"coordinates\": [\n",
    "        [\n",
    "            [-105.113711, 39.567879],\n",
    "            [-105.113711, 47.9613],\n",
    "            [-121.9613, 39.809211],\n",
    "            [-104.758037, 39.567879],\n",
    "            [-104.758037, 39.809211],\n",
    "        ]\n",
    "    ],\n",
    "}\n",
    "\n",
    "time_range = \"2023-07-01/2023-12-31\"\n",
    "\n",
    "search = catalog.search(\n",
    "    collections=[\"landsat-c2-l2\"], intersects=area_of_interest, datetime=time_range\n",
    ")\n",
    "items = search.item_collection()\n",
    "len(items)"
   ]
  },
  {
   "cell_type": "code",
   "execution_count": 46,
   "metadata": {},
   "outputs": [
    {
     "data": {
      "text/html": [
       "<div>\n",
       "<style scoped>\n",
       "    .dataframe tbody tr th:only-of-type {\n",
       "        vertical-align: middle;\n",
       "    }\n",
       "\n",
       "    .dataframe tbody tr th {\n",
       "        vertical-align: top;\n",
       "    }\n",
       "\n",
       "    .dataframe thead th {\n",
       "        text-align: right;\n",
       "    }\n",
       "</style>\n",
       "<table border=\"1\" class=\"dataframe\">\n",
       "  <thead>\n",
       "    <tr style=\"text-align: right;\">\n",
       "      <th></th>\n",
       "      <th>geometry</th>\n",
       "      <th>gsd</th>\n",
       "      <th>created</th>\n",
       "      <th>sci:doi</th>\n",
       "      <th>datetime</th>\n",
       "      <th>platform</th>\n",
       "      <th>proj:epsg</th>\n",
       "      <th>proj:shape</th>\n",
       "      <th>description</th>\n",
       "      <th>instruments</th>\n",
       "      <th>...</th>\n",
       "      <th>landsat:wrs_row</th>\n",
       "      <th>landsat:scene_id</th>\n",
       "      <th>landsat:wrs_path</th>\n",
       "      <th>landsat:wrs_type</th>\n",
       "      <th>view:sun_azimuth</th>\n",
       "      <th>landsat:correction</th>\n",
       "      <th>view:sun_elevation</th>\n",
       "      <th>landsat:cloud_cover_land</th>\n",
       "      <th>landsat:collection_number</th>\n",
       "      <th>landsat:collection_category</th>\n",
       "    </tr>\n",
       "  </thead>\n",
       "  <tbody>\n",
       "    <tr>\n",
       "      <th>0</th>\n",
       "      <td>POLYGON ((-107.04187 39.95082, -107.54639 38.2...</td>\n",
       "      <td>30</td>\n",
       "      <td>2023-07-09T09:23:02.261030Z</td>\n",
       "      <td>10.5066/P9OGBGM6</td>\n",
       "      <td>2023-07-03T17:43:23.249630Z</td>\n",
       "      <td>landsat-9</td>\n",
       "      <td>32613</td>\n",
       "      <td>[7911, 7791]</td>\n",
       "      <td>Landsat Collection 2 Level-2</td>\n",
       "      <td>[oli, tirs]</td>\n",
       "      <td>...</td>\n",
       "      <td>033</td>\n",
       "      <td>LC90340332023184LGN00</td>\n",
       "      <td>034</td>\n",
       "      <td>2</td>\n",
       "      <td>124.872691</td>\n",
       "      <td>L2SP</td>\n",
       "      <td>65.735034</td>\n",
       "      <td>8.95</td>\n",
       "      <td>02</td>\n",
       "      <td>T1</td>\n",
       "    </tr>\n",
       "    <tr>\n",
       "      <th>1</th>\n",
       "      <td>POLYGON ((-106.60846 41.38076, -107.12748 39.6...</td>\n",
       "      <td>30</td>\n",
       "      <td>2023-07-09T09:23:01.203914Z</td>\n",
       "      <td>10.5066/P9OGBGM6</td>\n",
       "      <td>2023-07-03T17:42:59.354378Z</td>\n",
       "      <td>landsat-9</td>\n",
       "      <td>32613</td>\n",
       "      <td>[7901, 7791]</td>\n",
       "      <td>Landsat Collection 2 Level-2</td>\n",
       "      <td>[oli, tirs]</td>\n",
       "      <td>...</td>\n",
       "      <td>032</td>\n",
       "      <td>LC90340322023184LGN00</td>\n",
       "      <td>034</td>\n",
       "      <td>2</td>\n",
       "      <td>127.957636</td>\n",
       "      <td>L2SP</td>\n",
       "      <td>65.102823</td>\n",
       "      <td>1.97</td>\n",
       "      <td>02</td>\n",
       "      <td>T1</td>\n",
       "    </tr>\n",
       "  </tbody>\n",
       "</table>\n",
       "<p>2 rows × 23 columns</p>\n",
       "</div>"
      ],
      "text/plain": [
       "                                            geometry  gsd  \\\n",
       "0  POLYGON ((-107.04187 39.95082, -107.54639 38.2...   30   \n",
       "1  POLYGON ((-106.60846 41.38076, -107.12748 39.6...   30   \n",
       "\n",
       "                       created           sci:doi                     datetime  \\\n",
       "0  2023-07-09T09:23:02.261030Z  10.5066/P9OGBGM6  2023-07-03T17:43:23.249630Z   \n",
       "1  2023-07-09T09:23:01.203914Z  10.5066/P9OGBGM6  2023-07-03T17:42:59.354378Z   \n",
       "\n",
       "    platform  proj:epsg    proj:shape                   description  \\\n",
       "0  landsat-9      32613  [7911, 7791]  Landsat Collection 2 Level-2   \n",
       "1  landsat-9      32613  [7901, 7791]  Landsat Collection 2 Level-2   \n",
       "\n",
       "   instruments  ...  landsat:wrs_row       landsat:scene_id  landsat:wrs_path  \\\n",
       "0  [oli, tirs]  ...              033  LC90340332023184LGN00               034   \n",
       "1  [oli, tirs]  ...              032  LC90340322023184LGN00               034   \n",
       "\n",
       "  landsat:wrs_type view:sun_azimuth landsat:correction view:sun_elevation  \\\n",
       "0                2       124.872691               L2SP          65.735034   \n",
       "1                2       127.957636               L2SP          65.102823   \n",
       "\n",
       "   landsat:cloud_cover_land landsat:collection_number  \\\n",
       "0                      8.95                        02   \n",
       "1                      1.97                        02   \n",
       "\n",
       "   landsat:collection_category  \n",
       "0                           T1  \n",
       "1                           T1  \n",
       "\n",
       "[2 rows x 23 columns]"
      ]
     },
     "execution_count": 46,
     "metadata": {},
     "output_type": "execute_result"
    }
   ],
   "source": [
    "import geopandas\n",
    "df = geopandas.GeoDataFrame.from_features(items.to_dict(), crs=\"epsg:4326\")\n",
    "df"
   ]
  },
  {
   "cell_type": "code",
   "execution_count": 50,
   "metadata": {},
   "outputs": [
    {
     "name": "stdout",
     "output_type": "stream",
     "text": [
      "<Item id=LC09_L2SP_034032_20230703_02_T1>\n"
     ]
    }
   ],
   "source": [
    "selected_item = min(items, key=lambda item: item.properties[\"eo:cloud_cover\"])\n",
    "print(selected_item)"
   ]
  },
  {
   "cell_type": "code",
   "execution_count": 51,
   "metadata": {},
   "outputs": [
    {
     "data": {
      "text/html": [
       "<pre style=\"white-space:pre;overflow-x:auto;line-height:normal;font-family:Menlo,'DejaVu Sans Mono',consolas,'Courier New',monospace\">┏━━━━━━━━━━━━━━━━━━┳━━━━━━━━━━━━━━━━━━━━━━━━━━━━━━━━━━━━━━━━━━━━━━━━━━━━━━━━━━━━━━━━━━━━━━┓\n",
       "┃<span style=\"font-weight: bold\"> Asset Key        </span>┃<span style=\"font-weight: bold\"> Description                                                          </span>┃\n",
       "┡━━━━━━━━━━━━━━━━━━╇━━━━━━━━━━━━━━━━━━━━━━━━━━━━━━━━━━━━━━━━━━━━━━━━━━━━━━━━━━━━━━━━━━━━━━┩\n",
       "│ qa               │ Surface Temperature Quality Assessment Band                          │\n",
       "│ ang              │ Angle Coefficients File                                              │\n",
       "│ red              │ Red Band                                                             │\n",
       "│ blue             │ Blue Band                                                            │\n",
       "│ drad             │ Downwelled Radiance Band                                             │\n",
       "│ emis             │ Emissivity Band                                                      │\n",
       "│ emsd             │ Emissivity Standard Deviation Band                                   │\n",
       "│ trad             │ Thermal Radiance Band                                                │\n",
       "│ urad             │ Upwelled Radiance Band                                               │\n",
       "│ atran            │ Atmospheric Transmittance Band                                       │\n",
       "│ cdist            │ Cloud Distance Band                                                  │\n",
       "│ green            │ Green Band                                                           │\n",
       "│ nir08            │ Near Infrared Band 0.8                                               │\n",
       "│ lwir11           │ Surface Temperature Band                                             │\n",
       "│ swir16           │ Short-wave Infrared Band 1.6                                         │\n",
       "│ swir22           │ Short-wave Infrared Band 2.2                                         │\n",
       "│ coastal          │ Coastal/Aerosol Band                                                 │\n",
       "│ mtl.txt          │ Product Metadata File (txt)                                          │\n",
       "│ mtl.xml          │ Product Metadata File (xml)                                          │\n",
       "│ mtl.json         │ Product Metadata File (json)                                         │\n",
       "│ qa_pixel         │ Pixel Quality Assessment Band                                        │\n",
       "│ qa_radsat        │ Radiometric Saturation and Terrain Occlusion Quality Assessment Band │\n",
       "│ qa_aerosol       │ Aerosol Quality Assessment Band                                      │\n",
       "│ tilejson         │ TileJSON with default rendering                                      │\n",
       "│ rendered_preview │ Rendered preview                                                     │\n",
       "└──────────────────┴──────────────────────────────────────────────────────────────────────┘\n",
       "</pre>\n"
      ],
      "text/plain": [
       "┏━━━━━━━━━━━━━━━━━━┳━━━━━━━━━━━━━━━━━━━━━━━━━━━━━━━━━━━━━━━━━━━━━━━━━━━━━━━━━━━━━━━━━━━━━━┓\n",
       "┃\u001b[1m \u001b[0m\u001b[1mAsset Key       \u001b[0m\u001b[1m \u001b[0m┃\u001b[1m \u001b[0m\u001b[1mDescription                                                         \u001b[0m\u001b[1m \u001b[0m┃\n",
       "┡━━━━━━━━━━━━━━━━━━╇━━━━━━━━━━━━━━━━━━━━━━━━━━━━━━━━━━━━━━━━━━━━━━━━━━━━━━━━━━━━━━━━━━━━━━┩\n",
       "│ qa               │ Surface Temperature Quality Assessment Band                          │\n",
       "│ ang              │ Angle Coefficients File                                              │\n",
       "│ red              │ Red Band                                                             │\n",
       "│ blue             │ Blue Band                                                            │\n",
       "│ drad             │ Downwelled Radiance Band                                             │\n",
       "│ emis             │ Emissivity Band                                                      │\n",
       "│ emsd             │ Emissivity Standard Deviation Band                                   │\n",
       "│ trad             │ Thermal Radiance Band                                                │\n",
       "│ urad             │ Upwelled Radiance Band                                               │\n",
       "│ atran            │ Atmospheric Transmittance Band                                       │\n",
       "│ cdist            │ Cloud Distance Band                                                  │\n",
       "│ green            │ Green Band                                                           │\n",
       "│ nir08            │ Near Infrared Band 0.8                                               │\n",
       "│ lwir11           │ Surface Temperature Band                                             │\n",
       "│ swir16           │ Short-wave Infrared Band 1.6                                         │\n",
       "│ swir22           │ Short-wave Infrared Band 2.2                                         │\n",
       "│ coastal          │ Coastal/Aerosol Band                                                 │\n",
       "│ mtl.txt          │ Product Metadata File (txt)                                          │\n",
       "│ mtl.xml          │ Product Metadata File (xml)                                          │\n",
       "│ mtl.json         │ Product Metadata File (json)                                         │\n",
       "│ qa_pixel         │ Pixel Quality Assessment Band                                        │\n",
       "│ qa_radsat        │ Radiometric Saturation and Terrain Occlusion Quality Assessment Band │\n",
       "│ qa_aerosol       │ Aerosol Quality Assessment Band                                      │\n",
       "│ tilejson         │ TileJSON with default rendering                                      │\n",
       "│ rendered_preview │ Rendered preview                                                     │\n",
       "└──────────────────┴──────────────────────────────────────────────────────────────────────┘\n"
      ]
     },
     "execution_count": 51,
     "metadata": {},
     "output_type": "execute_result"
    }
   ],
   "source": [
    "import rich.table\n",
    "\n",
    "table = rich.table.Table(\"Asset Key\", \"Description\")\n",
    "for asset_key, asset in selected_item.assets.items():\n",
    "    table.add_row(asset_key, asset.title)\n",
    "\n",
    "table"
   ]
  },
  {
   "cell_type": "code",
   "execution_count": 52,
   "metadata": {},
   "outputs": [
    {
     "data": {
      "text/plain": [
       "{'href': 'https://planetarycomputer.microsoft.com/api/data/v1/item/preview.png?collection=landsat-c2-l2&item=LC09_L2SP_034032_20230703_02_T1&assets=red&assets=green&assets=blue&color_formula=gamma+RGB+2.7%2C+saturation+1.5%2C+sigmoidal+RGB+15+0.55&format=png',\n",
       " 'type': 'image/png',\n",
       " 'title': 'Rendered preview',\n",
       " 'rel': 'preview',\n",
       " 'roles': ['overview']}"
      ]
     },
     "execution_count": 52,
     "metadata": {},
     "output_type": "execute_result"
    }
   ],
   "source": [
    "selected_item.assets[\"rendered_preview\"].to_dict()"
   ]
  },
  {
   "cell_type": "code",
   "execution_count": 53,
   "metadata": {},
   "outputs": [
    {
     "data": {
      "text/html": [
       "<img src=\"https://planetarycomputer.microsoft.com/api/data/v1/item/preview.png?collection=landsat-c2-l2&item=LC09_L2SP_034032_20230703_02_T1&assets=red&assets=green&assets=blue&color_formula=gamma+RGB+2.7%2C+saturation+1.5%2C+sigmoidal+RGB+15+0.55&format=png\" width=\"500\"/>"
      ],
      "text/plain": [
       "<IPython.core.display.Image object>"
      ]
     },
     "execution_count": 53,
     "metadata": {},
     "output_type": "execute_result"
    }
   ],
   "source": [
    "from IPython.display import Image\n",
    "\n",
    "Image(url=selected_item.assets[\"rendered_preview\"].href, width=500)"
   ]
  },
  {
   "cell_type": "code",
   "execution_count": null,
   "metadata": {},
   "outputs": [],
   "source": [
    "import pandas as pd\n",
    "\n",
    "search = catalog.search(\n",
    "    collections=[\"sentinel-2-l2a\"],\n",
    "    bbox=[-124.2751, 45.5469, -123.9613, 45.7458],\n",
    "    datetime=\"2020-01-01/2020-12-31\",\n",
    ")\n",
    "items = search.get_all_items()\n",
    "df = geopandas.GeoDataFrame.from_features(items.to_dict())\n",
    "df[\"datetime\"] = pd.to_datetime(df[\"datetime\"])\n",
    "\n",
    "ts = df.set_index(\"datetime\").sort_index()[\"eo:cloud_cover\"].rolling(7).mean()\n",
    "ts.plot(title=\"eo:cloud-cover (7-scene rolling average)\");"
   ]
  }
 ],
 "metadata": {
  "kernelspec": {
   "display_name": "Python 3.10.6 ('danv')",
   "language": "python",
   "name": "python3"
  },
  "language_info": {
   "codemirror_mode": {
    "name": "ipython",
    "version": 3
   },
   "file_extension": ".py",
   "mimetype": "text/x-python",
   "name": "python",
   "nbconvert_exporter": "python",
   "pygments_lexer": "ipython3",
   "version": "3.10.6"
  },
  "orig_nbformat": 4,
  "vscode": {
   "interpreter": {
    "hash": "6f35eacbf31bcc260f2059e57c7c818bd0c38006eec689eecd03fe2c24fc3eb3"
   }
  }
 },
 "nbformat": 4,
 "nbformat_minor": 2
}
